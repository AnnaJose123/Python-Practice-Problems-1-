{
  "nbformat": 4,
  "nbformat_minor": 0,
  "metadata": {
    "colab": {
      "provenance": []
    },
    "kernelspec": {
      "name": "python3",
      "display_name": "Python 3"
    },
    "language_info": {
      "name": "python"
    }
  },
  "cells": [
    {
      "cell_type": "code",
      "execution_count": null,
      "metadata": {
        "id": "AMc_dXvUzOga"
      },
      "outputs": [],
      "source": [
        "#1"
      ]
    },
    {
      "cell_type": "code",
      "source": [
        "def AoC (r):\n",
        "    pi = 3.141592653589793\n",
        "    a = pi * r * r\n",
        "    return a\n",
        "r=float(input(\"Enter the radius of circle : \"))\n",
        "a = AoC(r)\n",
        "print(f'Area of the circle is {a}')"
      ],
      "metadata": {
        "colab": {
          "base_uri": "https://localhost:8080/"
        },
        "id": "vHuS7ittz5do",
        "outputId": "5f9d3aea-d57f-4380-c247-a6d5c6570174"
      },
      "execution_count": null,
      "outputs": [
        {
          "output_type": "stream",
          "name": "stdout",
          "text": [
            "Enter the radius of circle : 3\n",
            "Area of the circle is 28.274333882308138\n"
          ]
        }
      ]
    },
    {
      "cell_type": "code",
      "source": [
        "#2"
      ],
      "metadata": {
        "id": "IdAtIWoY1MJc"
      },
      "execution_count": null,
      "outputs": []
    },
    {
      "cell_type": "code",
      "source": [
        "Name =input('Enter the name: ')\n",
        "Roll_No=int(input('Enter the roll number: '))\n",
        "Mark=int(input('Enter the mark: '))\n",
        "print(f\"Name:{Name}\\nRoll No: {Roll_No}\\nMark: {Mark}\")"
      ],
      "metadata": {
        "colab": {
          "base_uri": "https://localhost:8080/"
        },
        "id": "W5ms38Wf2aFy",
        "outputId": "25d8aaa1-9b33-4b1e-d5dc-c84a4d368ad7"
      },
      "execution_count": null,
      "outputs": [
        {
          "output_type": "stream",
          "name": "stdout",
          "text": [
            "Enter the name: Anisha\n",
            "Enter the roll number: 21\n",
            "Enter the mark: 78\n",
            "Name:Anisha\n",
            "Roll No: 21\n",
            "Mark: 78\n"
          ]
        }
      ]
    },
    {
      "cell_type": "code",
      "source": [
        "#3"
      ],
      "metadata": {
        "id": "SE_2QTSU3Y3A"
      },
      "execution_count": null,
      "outputs": []
    },
    {
      "cell_type": "code",
      "source": [
        "s=int(input('Enter the size of list : '))\n",
        "d=[]\n",
        "su=0\n",
        "def Largest(num):\n",
        "     Largest = num[0]\n",
        "     for n in num:\n",
        "        if n > Largest:\n",
        "            Largest = n\n",
        "     return Largest\n",
        "for i in range(s):\n",
        "  num=int(input())\n",
        "  d.append(num)\n",
        "print(d)\n",
        "l=Largest(d)\n",
        "print(f'{l} is the largest number')"
      ],
      "metadata": {
        "colab": {
          "base_uri": "https://localhost:8080/"
        },
        "id": "HY9TPU_w3gDh",
        "outputId": "8f1ed32b-e5aa-403e-be0e-1d9ab9a2fe04"
      },
      "execution_count": null,
      "outputs": [
        {
          "output_type": "stream",
          "name": "stdout",
          "text": [
            "Enter the size of list : 4\n",
            "12\n",
            "3\n",
            "47\n",
            "10\n",
            "[12, 3, 47, 10]\n",
            "47 is the largest number\n"
          ]
        }
      ]
    },
    {
      "cell_type": "code",
      "source": [
        "#4"
      ],
      "metadata": {
        "id": "0MSB29NPSX0b"
      },
      "execution_count": null,
      "outputs": []
    },
    {
      "cell_type": "code",
      "source": [
        "def S(f,l):\n",
        "    x = f -1\n",
        "    for y in range(f, l +1):\n",
        "        S = x+y\n",
        "        print(f\"Current Number {y} Previous Number {x} Sum: {S}\")\n",
        "        x=y\n",
        "F=int(input('First number= '))\n",
        "L=int(input('Last number= '))\n",
        "S(F,L)"
      ],
      "metadata": {
        "colab": {
          "base_uri": "https://localhost:8080/"
        },
        "id": "dVs_FkoLQWim",
        "outputId": "c1f81e5c-7bd2-449d-8e03-72cd659f25b2"
      },
      "execution_count": null,
      "outputs": [
        {
          "output_type": "stream",
          "name": "stdout",
          "text": [
            "First number= 1\n",
            "Last number= 10\n",
            "Current Number 1 Previous Number 0 Sum: 1\n",
            "Current Number 2 Previous Number 1 Sum: 3\n",
            "Current Number 3 Previous Number 2 Sum: 5\n",
            "Current Number 4 Previous Number 3 Sum: 7\n",
            "Current Number 5 Previous Number 4 Sum: 9\n",
            "Current Number 6 Previous Number 5 Sum: 11\n",
            "Current Number 7 Previous Number 6 Sum: 13\n",
            "Current Number 8 Previous Number 7 Sum: 15\n",
            "Current Number 9 Previous Number 8 Sum: 17\n",
            "Current Number 10 Previous Number 9 Sum: 19\n"
          ]
        }
      ]
    },
    {
      "cell_type": "code",
      "source": [
        "#5"
      ],
      "metadata": {
        "id": "yvZHI9XDSUQB"
      },
      "execution_count": null,
      "outputs": []
    },
    {
      "cell_type": "code",
      "source": [
        "def main():\n",
        "    input_str = input(\"Enter the numbers: \")\n",
        "    num_str_list = input_str.split()\n",
        "    numbers = [int(num_str) for num_str in num_str_list]\n",
        "    divisible_by_5 = []\n",
        "    for num in numbers:\n",
        "        if num % 5 == 0:\n",
        "            divisible_by_5.append(num)\n",
        "    print(\"Numbers divisible by 5:\", divisible_by_5)\n",
        "if __name__ == \"__main__\":\n",
        "    main()\n"
      ],
      "metadata": {
        "id": "QiYBHApPSbAx",
        "colab": {
          "base_uri": "https://localhost:8080/"
        },
        "outputId": "e87e9ea8-1dd0-4c53-a69f-a18ab52b907e"
      },
      "execution_count": null,
      "outputs": [
        {
          "output_type": "stream",
          "name": "stdout",
          "text": [
            "Enter the numbers: 6 20 35 54 22 25\n",
            "Numbers divisible by 5: [20, 35, 25]\n"
          ]
        }
      ]
    },
    {
      "cell_type": "code",
      "source": [
        "#6"
      ],
      "metadata": {
        "id": "JhKDvjrj3HJh"
      },
      "execution_count": null,
      "outputs": []
    },
    {
      "cell_type": "code",
      "source": [
        "prime=int(input('Enter a number : '))\n",
        "def prm(p):\n",
        " for i in range(2,p):\n",
        "   if(p%i==0):\n",
        "    return print(f'{p} is not a prime')\n",
        "    break\n",
        " else:\n",
        "  return print(f'{p} is a prime')\n",
        "prm(prime)"
      ],
      "metadata": {
        "id": "U1M9x4w53KqG",
        "colab": {
          "base_uri": "https://localhost:8080/"
        },
        "outputId": "2881eb75-3423-4680-cca7-26144acd1eb4"
      },
      "execution_count": 4,
      "outputs": [
        {
          "output_type": "stream",
          "name": "stdout",
          "text": [
            "Enter a number : 57\n",
            "57 is not a prime\n"
          ]
        }
      ]
    },
    {
      "cell_type": "code",
      "source": [
        "#7"
      ],
      "metadata": {
        "id": "VKwwyhq15Sey"
      },
      "execution_count": 5,
      "outputs": []
    },
    {
      "cell_type": "code",
      "source": [
        "def rev(list1):\n",
        "    rlist = []\n",
        "    l=len(l1)\n",
        "    for i in range(l-1,-1, -1):\n",
        "        rlist.append(list1[i])\n",
        "    return rlist\n",
        "s=int(input('What is the size of list '))\n",
        "l1=[]\n",
        "su=0\n",
        "for i in range(s):\n",
        "  num=int(input('Number= '))\n",
        "  l1.append(num)\n",
        "l2 = rev(list1)\n",
        "print(\"Original List:\", l1)\n",
        "print(\"Reversed List:\", l2)"
      ],
      "metadata": {
        "id": "oc8s8iZY5VsK"
      },
      "execution_count": null,
      "outputs": []
    },
    {
      "cell_type": "code",
      "source": [
        "#8"
      ],
      "metadata": {
        "id": "xqKnsQph6ujU"
      },
      "execution_count": null,
      "outputs": []
    },
    {
      "cell_type": "code",
      "source": [
        "def pattern(row):\n",
        "    for i in range(1, row + 1):\n",
        "        for j in range(1, i + 1):\n",
        "            print('*', end='')\n",
        "        print('\\n')\n",
        "pattern(4)\n"
      ],
      "metadata": {
        "colab": {
          "base_uri": "https://localhost:8080/"
        },
        "id": "anVeDbvN6vGd",
        "outputId": "8762ec50-ec95-4a8b-9a41-775b8d36426d"
      },
      "execution_count": 6,
      "outputs": [
        {
          "output_type": "stream",
          "name": "stdout",
          "text": [
            "*\n",
            "\n",
            "**\n",
            "\n",
            "***\n",
            "\n",
            "****\n",
            "\n"
          ]
        }
      ]
    },
    {
      "cell_type": "code",
      "source": [
        "#9"
      ],
      "metadata": {
        "id": "YE0flPKa7Bsi"
      },
      "execution_count": null,
      "outputs": []
    },
    {
      "cell_type": "code",
      "source": [
        "def maximum(num1, num2, num3):\n",
        "    result = max(num1, num2, num3)\n",
        "    return result\n",
        "n1=int(input('Enter first number '))\n",
        "n2=int(input('Enter second number '))\n",
        "n3=int(input('Enter third number '))\n",
        "m = maximum(n1, n2, n3)\n",
        "print(\"Maximum number is:\", m)"
      ],
      "metadata": {
        "colab": {
          "base_uri": "https://localhost:8080/"
        },
        "id": "uwXGXfCr7DIf",
        "outputId": "8bc8e114-1b0a-4c66-ca0e-9890a9963b5d"
      },
      "execution_count": 1,
      "outputs": [
        {
          "output_type": "stream",
          "name": "stdout",
          "text": [
            "Enter first number 5\n",
            "Enter second number 7\n",
            "Enter third number 6\n",
            "Maximum number is: 7\n"
          ]
        }
      ]
    },
    {
      "cell_type": "code",
      "source": [
        "#10"
      ],
      "metadata": {
        "id": "nujh4YkZ7fdp"
      },
      "execution_count": null,
      "outputs": []
    },
    {
      "cell_type": "code",
      "source": [
        "def P(row):\n",
        "    for i in range(1, row + 1):\n",
        "        for j in range(1, i + 1):\n",
        "            print('*', end='')\n",
        "        print('\\n')\n",
        "    for i in range(row - 1, 0, -1):\n",
        "        for j in range(1, i + 1):\n",
        "            print('*', end='')\n",
        "        print('\\n')\n",
        "P(5)"
      ],
      "metadata": {
        "colab": {
          "base_uri": "https://localhost:8080/"
        },
        "id": "L-mT7kkF7fyX",
        "outputId": "e9eee6e6-8fe4-4c68-b81d-6d599328fa93"
      },
      "execution_count": 3,
      "outputs": [
        {
          "output_type": "stream",
          "name": "stdout",
          "text": [
            "*\n",
            "\n",
            "**\n",
            "\n",
            "***\n",
            "\n",
            "****\n",
            "\n",
            "*****\n",
            "\n",
            "****\n",
            "\n",
            "***\n",
            "\n",
            "**\n",
            "\n",
            "*\n",
            "\n"
          ]
        }
      ]
    }
  ]
}